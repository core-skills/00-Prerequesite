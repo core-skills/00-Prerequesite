{
 "cells": [
  {
   "cell_type": "markdown",
   "metadata": {},
   "source": [
    "# Making a data file full of random numbers\n",
    "\n",
    "Just run this part so we know the data file exists!"
   ]
  },
  {
   "cell_type": "code",
   "execution_count": null,
   "metadata": {},
   "outputs": [],
   "source": [
    "import numpy as np\n",
    "# make some random data\n",
    "a = np.random.normal(loc=0, scale=1, size=1000)"
   ]
  },
  {
   "cell_type": "code",
   "execution_count": null,
   "metadata": {},
   "outputs": [],
   "source": [
    "# Save it to a file\n",
    "with open('random_data.csv', 'w') as f:\n",
    "    print(\"numbers\", file=f)\n",
    "    for i in a:\n",
    "        print(i,file=f)"
   ]
  },
  {
   "cell_type": "markdown",
   "metadata": {},
   "source": [
    "# Plotting code\n",
    "\n",
    "We have a code that reads that one file, and then plots the result to a new file. We put it into a function because we were told that functions are for good people."
   ]
  },
  {
   "cell_type": "code",
   "execution_count": null,
   "metadata": {
    "scrolled": true
   },
   "outputs": [],
   "source": [
    "from matplotlib import pyplot\n",
    "import scipy\n",
    "import scipy.ndimage\n",
    "from astropy.table import Table\n",
    "\n",
    "def plot():\n",
    "    \"\"\"\n",
    "    Read a data file and plot it to another file.\n",
    "    \"\"\"\n",
    "    tab = Table.read('random_data.csv')\n",
    "    data = tab['numbers']\n",
    "    smoothed = scipy.ndimage.gaussian_filter1d(data, sigma=2)\n",
    "    \n",
    "    fig = pyplot.figure()\n",
    "    ax = fig.add_subplot(1,1,1)\n",
    "    ax.plot(a)\n",
    "    ax.set_xlabel('Index')\n",
    "    ax.set_ylabel('Value')\n",
    "    pyplot.savefig('NicePlot.png')\n",
    "    pyplot.show()\n",
    "    return\n",
    "\n",
    "plot()"
   ]
  },
  {
   "cell_type": "markdown",
   "metadata": {},
   "source": [
    "# Questions:\n",
    "\n",
    "If I want to use a different data set (maybe something that's not random junk), what do I need to change?\n",
    "\n",
    "If I want to save the file to a different location or use a different name, what do I need to change?\n",
    "\n",
    "If I have 10 input files, how to I automate reading all the data and saving all the figures?\n",
    "\n",
    "---\n",
    "\n",
    "The problem is that the 'data' is embedded in the code. Here I mean the filenames, not the list of numbers. At least we didn't think copying the big array of numbers directly into our script was a good idea.\n",
    "\n",
    "How about we make the input/output filenames arguments to the function?"
   ]
  },
  {
   "cell_type": "code",
   "execution_count": null,
   "metadata": {},
   "outputs": [],
   "source": [
    "def plot(infile, outfile):\n",
    "    \"\"\"\n",
    "    Read a data file and plot it to another file.\n",
    "    \n",
    "    Parameters\n",
    "    ----------\n",
    "    infile : string\n",
    "        The input filename. Something that astropy.Table can read. \n",
    "        Assumed to have a column called 'numbers' that we are going to plot.\n",
    "        \n",
    "    outfile : string\n",
    "        The output filename. Should be .png or something that matplotlib\n",
    "        knows how to write\n",
    "    \"\"\"\n",
    "    tab = Table.read(infile)\n",
    "    data = tab['numbers']\n",
    "    smoothed = scipy.ndimage.gaussian_filter1d(data, sigma=2)\n",
    "    \n",
    "    fig = pyplot.figure()\n",
    "    ax = fig.add_subplot(1,1,1)\n",
    "    ax.plot(a)\n",
    "    ax.set_xlabel('Index')\n",
    "    ax.set_ylabel('Value')\n",
    "    pyplot.savefig(outfile)\n",
    "    return"
   ]
  },
  {
   "cell_type": "code",
   "execution_count": null,
   "metadata": {},
   "outputs": [],
   "source": [
    "plot(infile='random_data.csv',\n",
    "     outfile='NicePlot.png')"
   ]
  },
  {
   "cell_type": "markdown",
   "metadata": {},
   "source": [
    "## Solved?\n",
    "\n",
    "Not quite, we could call this function 10 times but would have to change the script every time to change input/output.\n",
    "\n",
    "We will look at making functions more generic tomorrow."
   ]
  },
  {
   "cell_type": "code",
   "execution_count": null,
   "metadata": {},
   "outputs": [],
   "source": []
  }
 ],
 "metadata": {
  "kernelspec": {
   "display_name": "Python 3",
   "language": "python",
   "name": "python3"
  },
  "language_info": {
   "codemirror_mode": {
    "name": "ipython",
    "version": 3
   },
   "file_extension": ".py",
   "mimetype": "text/x-python",
   "name": "python",
   "nbconvert_exporter": "python",
   "pygments_lexer": "ipython3",
   "version": "3.8.6"
  }
 },
 "nbformat": 4,
 "nbformat_minor": 4
}
